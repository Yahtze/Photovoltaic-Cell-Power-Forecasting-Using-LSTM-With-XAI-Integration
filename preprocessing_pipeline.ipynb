{
 "cells": [
  {
   "cell_type": "code",
   "execution_count": 1,
   "metadata": {},
   "outputs": [],
   "source": [
    "import pandas as pd\n",
    "import glob\n",
    "import matplotlib.pyplot as plt\n",
    "\n",
    "import numpy as np \n",
    "\n",
    "import pvlib\n",
    "from pvlib import clearsky\n",
    "from pvlib import clearsky, atmosphere, solarposition\n",
    "from pvlib.location import Location\n",
    "\n",
    "import warnings\n",
    "warnings.filterwarnings(\"ignore\")\n"
   ]
  },
  {
   "cell_type": "markdown",
   "metadata": {},
   "source": [
    "# 0 - Importing data"
   ]
  },
  {
   "cell_type": "code",
   "execution_count": 2,
   "metadata": {},
   "outputs": [],
   "source": [
    "GHI_df = pd.DataFrame()\n",
    "years = np.linspace(2016,2021,6, dtype= int)\n",
    "file_path = './GHI_dataset/raw_data/GHI_raw_'\n",
    "\n",
    "for year in years:\n",
    "    file_path_temp = file_path + str(year) + '.csv'\n",
    "    df_temp = pd.read_csv(file_path_temp)\n",
    "    GHI_df = pd.concat([GHI_df, df_temp], axis = 0)\n",
    "\n",
    "GHI_df['datetime'] = pd.to_datetime(GHI_df['datetime'], format=\"%Y-%m-%d %H:%M:%S\")\n",
    "\n",
    "GHI_df.set_index('datetime', inplace = True)"
   ]
  },
  {
   "cell_type": "code",
   "execution_count": 3,
   "metadata": {},
   "outputs": [
    {
     "name": "stdout",
     "output_type": "stream",
     "text": [
      "Number of GHI_df measurements: 17297280\n",
      "Number of NA: 717723\n"
     ]
    },
    {
     "data": {
      "text/html": [
       "<div>\n",
       "<style scoped>\n",
       "    .dataframe tbody tr th:only-of-type {\n",
       "        vertical-align: middle;\n",
       "    }\n",
       "\n",
       "    .dataframe tbody tr th {\n",
       "        vertical-align: top;\n",
       "    }\n",
       "\n",
       "    .dataframe thead th {\n",
       "        text-align: right;\n",
       "    }\n",
       "</style>\n",
       "<table border=\"1\" class=\"dataframe\">\n",
       "  <thead>\n",
       "    <tr style=\"text-align: right;\">\n",
       "      <th></th>\n",
       "      <th>GHI</th>\n",
       "    </tr>\n",
       "    <tr>\n",
       "      <th>datetime</th>\n",
       "      <th></th>\n",
       "    </tr>\n",
       "  </thead>\n",
       "  <tbody>\n",
       "    <tr>\n",
       "      <th>2016-01-08 00:00:00</th>\n",
       "      <td>2.923</td>\n",
       "    </tr>\n",
       "    <tr>\n",
       "      <th>2016-01-08 00:00:10</th>\n",
       "      <td>2.957</td>\n",
       "    </tr>\n",
       "    <tr>\n",
       "      <th>2016-01-08 00:00:20</th>\n",
       "      <td>2.945</td>\n",
       "    </tr>\n",
       "    <tr>\n",
       "      <th>2016-01-08 00:00:30</th>\n",
       "      <td>2.938</td>\n",
       "    </tr>\n",
       "    <tr>\n",
       "      <th>2016-01-08 00:00:40</th>\n",
       "      <td>2.936</td>\n",
       "    </tr>\n",
       "    <tr>\n",
       "      <th>2016-01-08 00:00:50</th>\n",
       "      <td>2.941</td>\n",
       "    </tr>\n",
       "    <tr>\n",
       "      <th>2016-01-08 00:01:00</th>\n",
       "      <td>2.934</td>\n",
       "    </tr>\n",
       "    <tr>\n",
       "      <th>2016-01-08 00:01:10</th>\n",
       "      <td>2.941</td>\n",
       "    </tr>\n",
       "    <tr>\n",
       "      <th>2016-01-08 00:01:20</th>\n",
       "      <td>2.961</td>\n",
       "    </tr>\n",
       "    <tr>\n",
       "      <th>2016-01-08 00:01:30</th>\n",
       "      <td>2.950</td>\n",
       "    </tr>\n",
       "  </tbody>\n",
       "</table>\n",
       "</div>"
      ],
      "text/plain": [
       "                       GHI\n",
       "datetime                  \n",
       "2016-01-08 00:00:00  2.923\n",
       "2016-01-08 00:00:10  2.957\n",
       "2016-01-08 00:00:20  2.945\n",
       "2016-01-08 00:00:30  2.938\n",
       "2016-01-08 00:00:40  2.936\n",
       "2016-01-08 00:00:50  2.941\n",
       "2016-01-08 00:01:00  2.934\n",
       "2016-01-08 00:01:10  2.941\n",
       "2016-01-08 00:01:20  2.961\n",
       "2016-01-08 00:01:30  2.950"
      ]
     },
     "execution_count": 3,
     "metadata": {},
     "output_type": "execute_result"
    }
   ],
   "source": [
    "print(\"Number of GHI_df measurements: \" + str(GHI_df.shape[0]))\n",
    "\n",
    "print(\"Number of NA: \" + str(GHI_df['GHI'].isnull().sum()))\n",
    "\n",
    "GHI_df.head(10)"
   ]
  },
  {
   "cell_type": "markdown",
   "metadata": {},
   "source": [
    "## Step 1 - Removal of missing values"
   ]
  },
  {
   "cell_type": "code",
   "execution_count": 4,
   "metadata": {},
   "outputs": [
    {
     "name": "stdout",
     "output_type": "stream",
     "text": [
      "Number of GHI measurements to interpolate: 11683\n"
     ]
    }
   ],
   "source": [
    "threshold = 1\n",
    "\n",
    "def remove_consecutive_nan(df, column, threshold):\n",
    "    bool_series = df[column].isnull()\n",
    "    df['block'] = (bool_series.diff(1) != 0).astype('int').cumsum()\n",
    "    df = df[~((df[column].isnull()) & (df.groupby('block')['block'].transform('size') > threshold))]\n",
    "    df = df.drop('block', axis=1)\n",
    "    return df\n",
    "\n",
    "GHI_df = remove_consecutive_nan(GHI_df, 'GHI', threshold)\n",
    "\n",
    "print('Number of GHI measurements to interpolate: ' + str(GHI_df['GHI'].isnull().sum()))"
   ]
  },
  {
   "cell_type": "code",
   "execution_count": 5,
   "metadata": {},
   "outputs": [
    {
     "name": "stdout",
     "output_type": "stream",
     "text": [
      "Number of NaNs: 0\n",
      "Number of GHI measurements: 16591240\n"
     ]
    }
   ],
   "source": [
    "GHI_df['GHI'] = GHI_df['GHI'].interpolate()\n",
    "\n",
    "print('Number of NaNs: ' + str(GHI_df['GHI'].isnull().sum()))\n",
    "print(\"Number of GHI measurements: \" + str(GHI_df.shape[0]))"
   ]
  },
  {
   "cell_type": "markdown",
   "metadata": {},
   "source": [
    "## Step 2 - Identification and removal of outliers"
   ]
  },
  {
   "cell_type": "code",
   "execution_count": 6,
   "metadata": {},
   "outputs": [
    {
     "name": "stdout",
     "output_type": "stream",
     "text": [
      "Number of GHI measurements: 16241644\n"
     ]
    }
   ],
   "source": [
    "GHI_max = 1000\n",
    "GHI_min = 0\n",
    "\n",
    "GHI_df = GHI_df[(GHI_df[\"GHI\"] < GHI_max) & (GHI_df[\"GHI\"] > GHI_min)]\n",
    "print(\"Number of GHI measurements: \" + str(GHI_df.shape[0]))"
   ]
  },
  {
   "cell_type": "markdown",
   "metadata": {},
   "source": [
    "## Step 3 - Clear sky global horizontal irradiance (GHIcs)"
   ]
  },
  {
   "cell_type": "code",
   "execution_count": null,
   "metadata": {},
   "outputs": [],
   "source": [
    "#Clear sky GHI calculation\n",
    "\n",
    "latitude = 46.518\n",
    "longitude = 6.565\n",
    "time_zone = 'Europe/Zurich'\n",
    "altitude = 400\n",
    "place = 'Ecublens'\n",
    "frequency = '10S'\n",
    "\n",
    "tus = Location(latitude, longitude, time_zone, altitude, place)\n",
    "\n",
    "cs = tus.get_clearsky(GHI_df.index)\n",
    "GHI_df['GHIcs'] = cs.ghi\n"
   ]
  },
  {
   "cell_type": "markdown",
   "metadata": {},
   "source": [
    "## Step 4 - Removal of night measurements"
   ]
  },
  {
   "cell_type": "code",
   "execution_count": 9,
   "metadata": {},
   "outputs": [
    {
     "name": "stdout",
     "output_type": "stream",
     "text": [
      "Percentage of GHI night measurements: 53%\n",
      "Number of GHI measurements: 7490668\n"
     ]
    }
   ],
   "source": [
    "\n",
    "nb_night_measurements = int(100*GHI_df[GHI_df['GHIcs']<30].shape[0] / GHI_df.shape[0])\n",
    "\n",
    "GHI_df = GHI_df[GHI_df[\"GHIcs\"] > 30]\n",
    "\n",
    "print(\"Percentage of GHI night measurements: \" + str(nb_night_measurements) + \"%\")\n",
    "print(\"Number of GHI measurements: \" + str(GHI_df.shape[0]))"
   ]
  },
  {
   "cell_type": "markdown",
   "metadata": {},
   "source": [
    "## Step 5 - Clear sky index (kcs)"
   ]
  },
  {
   "cell_type": "code",
   "execution_count": 10,
   "metadata": {},
   "outputs": [
    {
     "data": {
      "text/html": [
       "<div>\n",
       "<style scoped>\n",
       "    .dataframe tbody tr th:only-of-type {\n",
       "        vertical-align: middle;\n",
       "    }\n",
       "\n",
       "    .dataframe tbody tr th {\n",
       "        vertical-align: top;\n",
       "    }\n",
       "\n",
       "    .dataframe thead th {\n",
       "        text-align: right;\n",
       "    }\n",
       "</style>\n",
       "<table border=\"1\" class=\"dataframe\">\n",
       "  <thead>\n",
       "    <tr style=\"text-align: right;\">\n",
       "      <th></th>\n",
       "      <th>GHI</th>\n",
       "      <th>GHIcs</th>\n",
       "      <th>k</th>\n",
       "    </tr>\n",
       "    <tr>\n",
       "      <th>datetime</th>\n",
       "      <th></th>\n",
       "      <th></th>\n",
       "      <th></th>\n",
       "    </tr>\n",
       "  </thead>\n",
       "  <tbody>\n",
       "    <tr>\n",
       "      <th>2016-01-08 07:59:00</th>\n",
       "      <td>15.394</td>\n",
       "      <td>30.209756</td>\n",
       "      <td>0.509570</td>\n",
       "    </tr>\n",
       "    <tr>\n",
       "      <th>2016-01-08 07:59:10</th>\n",
       "      <td>15.447</td>\n",
       "      <td>30.471824</td>\n",
       "      <td>0.506927</td>\n",
       "    </tr>\n",
       "    <tr>\n",
       "      <th>2016-01-08 07:59:20</th>\n",
       "      <td>15.472</td>\n",
       "      <td>30.734662</td>\n",
       "      <td>0.503406</td>\n",
       "    </tr>\n",
       "    <tr>\n",
       "      <th>2016-01-08 07:59:30</th>\n",
       "      <td>15.542</td>\n",
       "      <td>30.998266</td>\n",
       "      <td>0.501383</td>\n",
       "    </tr>\n",
       "    <tr>\n",
       "      <th>2016-01-08 07:59:40</th>\n",
       "      <td>15.539</td>\n",
       "      <td>31.262629</td>\n",
       "      <td>0.497047</td>\n",
       "    </tr>\n",
       "  </tbody>\n",
       "</table>\n",
       "</div>"
      ],
      "text/plain": [
       "                        GHI      GHIcs         k\n",
       "datetime                                        \n",
       "2016-01-08 07:59:00  15.394  30.209756  0.509570\n",
       "2016-01-08 07:59:10  15.447  30.471824  0.506927\n",
       "2016-01-08 07:59:20  15.472  30.734662  0.503406\n",
       "2016-01-08 07:59:30  15.542  30.998266  0.501383\n",
       "2016-01-08 07:59:40  15.539  31.262629  0.497047"
      ]
     },
     "execution_count": 10,
     "metadata": {},
     "output_type": "execute_result"
    }
   ],
   "source": [
    "GHI_df['k'] = GHI_df[\"GHI\"] / GHI_df[\"GHIcs\"]\n",
    "\n",
    "#Night measurement have GHIcs = 0 => k=inf ; when it happens, we set k to 0\n",
    "GHI_df.replace([np.inf, -np.inf], 0, inplace= True)\n",
    "\n",
    "GHI_df.head(5)"
   ]
  },
  {
   "cell_type": "markdown",
   "metadata": {},
   "source": [
    "## Step 6 - Sampling"
   ]
  },
  {
   "cell_type": "code",
   "execution_count": 11,
   "metadata": {},
   "outputs": [],
   "source": [
    "import os\n",
    "sampling_frequencies = [\"15T\", \"30T\", \"45T\", \"1H\"]\n",
    "\n",
    "sampling_frequencies_eng = [\"15_minutes\", \"30_minutes\", \"45_minutes\", \"1_hour\"]\n",
    "\n",
    "root = \"./GHI_dataset/cleaned_sampled_data/\"\n",
    "\n",
    "for i, frequency in enumerate(sampling_frequencies):\n",
    "\n",
    "    \n",
    "    df_sampled_temp = GHI_df.resample(frequency).mean().copy()\n",
    "    df_sampled_temp = df_sampled_temp.dropna()\n",
    "    df_sampled_temp.reset_index(inplace = True)\n",
    "\n",
    "    df_sampled_temp['year'] = df_sampled_temp['datetime'].dt.year\n",
    "    years = df_sampled_temp['year'].unique()\n",
    "\n",
    "    file_path= root + '/GHI_sampled_' + str(sampling_frequencies_eng[i]) + '.csv'\n",
    "    df_sampled_temp.to_csv(file_path, index=False)\n",
    "    "
   ]
  },
  {
   "cell_type": "code",
   "execution_count": null,
   "metadata": {},
   "outputs": [],
   "source": []
  }
 ],
 "metadata": {
  "kernelspec": {
   "display_name": "Python 3 (ipykernel)",
   "language": "python",
   "name": "python3"
  },
  "language_info": {
   "codemirror_mode": {
    "name": "ipython",
    "version": 3
   },
   "file_extension": ".py",
   "mimetype": "text/x-python",
   "name": "python",
   "nbconvert_exporter": "python",
   "pygments_lexer": "ipython3",
   "version": "3.7.0"
  }
 },
 "nbformat": 4,
 "nbformat_minor": 2
}
